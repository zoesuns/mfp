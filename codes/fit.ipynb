{
 "cells": [
  {
   "cell_type": "code",
   "execution_count": 2,
   "metadata": {},
   "outputs": [],
   "source": [
    "import numpy as np\n",
    "import matplotlib.pyplot as plt\n",
    "from astropy.constants import c as clight\n",
    "from astropy.constants import e as e_elec\n",
    "from astropy.constants import h as hplanck\n",
    "from astropy.cosmology import WMAP9 as cosmo"
   ]
  },
  {
   "cell_type": "code",
   "execution_count": 3,
   "metadata": {},
   "outputs": [],
   "source": [
    "zqso=5.887\n",
    "Hz=cosmo.H(zqso).value\n",
    "H0=cosmo.H(0).value"
   ]
  },
  {
   "cell_type": "code",
   "execution_count": 4,
   "metadata": {},
   "outputs": [],
   "source": [
    "Req=18 #pMpc\n",
    "xi=0.67\n",
    "kapbg=10**(-24.5) #cm^-2 wrong, cm^-1"
   ]
  },
  {
   "cell_type": "code",
   "execution_count": 5,
   "metadata": {},
   "outputs": [],
   "source": [
    "def kap(drArr,Req,xi,kapbg):\n",
    "    \"\"\"\n",
    "    Calculate kappa profile given inputs.\n",
    "\n",
    "    Parameters:\n",
    "    - drArr: array of radial step sizes in pMpc\n",
    "    - Req: characteristic scale in pMpc, where \\Gamma_qso==\\Gamma_bkg assuming pure geometric dillusion\n",
    "    - xi: power-law index\n",
    "    - kapbg: background opacity in 1/pMpc\n",
    "\n",
    "    Returns:\n",
    "    - kapr: array of kappa values at each radial step\n",
    "    \"\"\"\n",
    "    rArr=np.cumsum(drArr)\n",
    "    kapbg*=3.08e24 #convert to 1/pMpc\n",
    "    Gq_o_Gbg=np.zeros_like(rArr)\n",
    "    kapr=np.zeros_like(rArr)\n",
    "    kapr[0]=0\n",
    "    Gq_o_Gbg[0]=(rArr[0]/Req)**(-2) #Eq7\n",
    "    for i in range(1,len(rArr)):\n",
    "        kapr[i]=kapbg*(1+Gq_o_Gbg[i-1])**(-xi) #Eq4\n",
    "        Gq_o_Gbg[i]=Gq_o_Gbg[i-1]*(rArr[i]/rArr[i-1])**(-2)*np.exp(-kapr[i-1]*drArr[i-1]) #Eq8\n",
    "    return kapr#,Gq_o_Gbg"
   ]
  },
  {
   "cell_type": "code",
   "execution_count": 6,
   "metadata": {},
   "outputs": [],
   "source": [
    "def tau_LyC(wv_rest,Req,xi,kapbg,debug=True):\n",
    "    z912=wv_rest/911.76*(1+zqso)-1\n",
    "#     print(z912)\n",
    "    ngrid=10000\n",
    "    dzpArr=np.ones(ngrid)*(zqso-z912)/ngrid\n",
    "    zpArr=z912+(np.cumsum(dzpArr)-dzpArr[0]/2)\n",
    "    drArr=dzpArr/Hz*clight.to(\"km/s\").value/(1+zqso)\n",
    "#     print(np.sum(drArr))\n",
    "#     print((911.76-wv_rest)/911.76*clight.to(\"km/s\").value/Hz)\n",
    "    kap_zp=kap(drArr,Req,xi,kapbg)\n",
    "    \n",
    "    integ=(np.sum(kap_zp*(1+zpArr)**(-5.25)*dzpArr))\n",
    "    tau_eff=clight.to(\"km/s\").value/H0/cosmo.Om0**0.5*(1+z912)**2.75*integ\n",
    "#     if debug==True:\n",
    "#         return drArr,kap_zp,tau_eff\n",
    "    return tau_eff\n",
    "\n",
    "def convert_mfp_kapbg(wv_rest,kapbg):\n",
    "    z912=wv_rest/911.76*(1+zqso)-1\n",
    "    ngrid=10000\n",
    "    dzpArr=np.ones(ngrid)*(zqso-z912)/ngrid\n",
    "    zpArr=z912+(np.cumsum(dzpArr)-dzpArr[0]/2)\n",
    "    drArr=dzpArr/Hz*clight.to(\"km/s\").value/(1+zqso)\n",
    "    kap_zp=np.ones_like(drArr)*kapbg*3.08e24\n",
    "    integ=(np.sum(kap_zp*(1+zpArr)**(-5.25)*dzpArr))\n",
    "    return clight.to(\"km/s\").value/H0/cosmo.Om0**0.5*(1+z912)**2.75*integ"
   ]
  },
  {
   "cell_type": "markdown",
   "metadata": {},
   "source": [
    "### load data"
   ]
  },
  {
   "cell_type": "code",
   "execution_count": 7,
   "metadata": {},
   "outputs": [],
   "source": [
    "wv_rest_arr=np.loadtxt(\"AAout.txt\")\n",
    "qso_t1e7_tau_profiles=np.loadtxt(\"qso_t1e7_tau_profiles.txt\")"
   ]
  },
  {
   "cell_type": "code",
   "execution_count": 8,
   "metadata": {},
   "outputs": [],
   "source": [
    "mean_p=np.mean(np.exp(-qso_t1e7_tau_profiles),axis=0)"
   ]
  },
  {
   "cell_type": "code",
   "execution_count": 13,
   "metadata": {},
   "outputs": [
    {
     "data": {
      "text/plain": [
       "<matplotlib.legend.Legend at 0x7fcc7fc78c50>"
      ]
     },
     "execution_count": 13,
     "metadata": {},
     "output_type": "execute_result"
    },
    {
     "data": {
      "image/png": "[encoded data removed]",
      "text/plain": [
       "<Figure size 432x288 with 1 Axes>"
      ]
     },
     "metadata": {
      "needs_background": "light"
     },
     "output_type": "display_data"
    }
   ],
   "source": [
    "plt.plot(wv_rest_arr,mean_p,label=\"data\")\n",
    "\n",
    "\n",
    "Req=12.5 #pMpc\n",
    "xi=0.67\n",
    "kapbg=10**(-25.) #cm^-2 wrong, cm^-1\n",
    "\n",
    "tau_arr=np.array([tau_LyC(wv,Req,xi,kapbg) for wv in wv_rest_arr])\n",
    "\n",
    "plt.plot(wv_rest_arr,np.exp(-tau_arr),label=r\"$Req={:3.1f},\\xi={:4.2f},\\kappa_b={:4.2e}$\".format(Req,xi,kapbg))\n",
    "\n",
    "\n",
    "Req=12.5 #pMpc\n",
    "xi=0.67\n",
    "kapbg=10**(-25.1) #cm^-2 wrong, cm^-1\n",
    "\n",
    "tau_arr=np.array([tau_LyC(wv,Req,xi,kapbg) for wv in wv_rest_arr])\n",
    "\n",
    "plt.plot(wv_rest_arr,np.exp(-tau_arr),label=r\"$Req={:3.1f},\\xi={:4.2f},\\kappa_b={:4.2e}$\".format(Req,xi,kapbg))\n",
    "\n",
    "\n",
    "\n",
    "Req=12.5 #pMpc\n",
    "xi=0.67\n",
    "kapbg=10**(-24.9) #cm^-2 wrong, cm^-1\n",
    "\n",
    "tau_arr=np.array([tau_LyC(wv,Req,xi,kapbg) for wv in wv_rest_arr])\n",
    "\n",
    "plt.plot(wv_rest_arr,np.exp(-tau_arr),label=r\"$Req={:3.1f},\\xi={:4.2f},\\kappa_b={:4.2e}$\".format(Req,xi,kapbg))\n",
    "\n",
    "\n",
    "plt.legend()"
   ]
  },
  {
   "cell_type": "code",
   "execution_count": null,
   "metadata": {},
   "outputs": [],
   "source": []
  }
 ],
 "metadata": {
  "kernelspec": {
   "display_name": "Python 3",
   "language": "python",
   "name": "python3"
  },
  "language_info": {
   "codemirror_mode": {
    "name": "ipython",
    "version": 3
   },
   "file_extension": ".py",
   "mimetype": "text/x-python",
   "name": "python",
   "nbconvert_exporter": "python",
   "pygments_lexer": "ipython3",
   "version": "3.7.7"
  }
 },
 "nbformat": 4,
 "nbformat_minor": 2
}
