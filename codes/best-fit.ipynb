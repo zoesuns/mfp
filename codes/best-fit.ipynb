{
 "cells": [
  {
   "cell_type": "code",
   "execution_count": 94,
   "metadata": {},
   "outputs": [],
   "source": [
    "import numpy as np\n",
    "import matplotlib.pyplot as plt\n",
    "from astropy.constants import c as clight\n",
    "from astropy.constants import e as e_elec\n",
    "from astropy.constants import h as hplanck\n",
    "from astropy.cosmology import WMAP9 as cosmo\n",
    "import fitting\n",
    "import scipy.optimize as opt               # this is needed for chi-squared minimization\n",
    "\n",
    "\n",
    "clight_kmps=clight.to(\"km/s\").value\n",
    "\n",
    "plt.rcParams[\"text.usetex\"]=True\n",
    "plt.rcParams[\"axes.labelsize\"]=20\n",
    "plt.rcParams[\"xtick.labelsize\"]=20\n",
    "plt.rcParams[\"ytick.labelsize\"]=20\n",
    "plt.rcParams[\"legend.fontsize\"]=20"
   ]
  },
  {
   "cell_type": "code",
   "execution_count": 89,
   "metadata": {},
   "outputs": [],
   "source": [
    "LyC_AA=12398.42/13.6"
   ]
  },
  {
   "cell_type": "code",
   "execution_count": 102,
   "metadata": {},
   "outputs": [],
   "source": [
    "H0=cosmo.H(0).value"
   ]
  },
  {
   "cell_type": "code",
   "execution_count": 109,
   "metadata": {},
   "outputs": [],
   "source": [
    "kapbg=1./(mfp*3.08e24)"
   ]
  },
  {
   "cell_type": "code",
   "execution_count": 145,
   "metadata": {},
   "outputs": [],
   "source": [
    "def fit_func_dist_equal_wv(wv_rest_arr,lamb, zqso, Req, xi,xsec_index=2.75):\n",
    "    \"\"\"\n",
    "    make sure dAA is small enough\n",
    "    \"\"\"\n",
    "    kapbg=1/lamb # in unit 1/pMpc\n",
    "    drArr=-(wv_rest_arr[1:]-wv_rest_arr[:-1])/LyC_AA*clight_kmps/Hz\n",
    "    rArr=np.cumsum(drArr)\n",
    "\n",
    "    z912=wv_rest_arr/LyC_AA*(1+zqso)-1\n",
    "\n",
    "    dzpArr=z912[1:]-z912[:-1]\n",
    "\n",
    "    Gq_o_Gbg=np.zeros_like(rArr)\n",
    "    kapr=np.zeros_like(rArr)\n",
    "    kapr[0]=0\n",
    "    Gq_o_Gbg[0]=(rArr[0]/Req)**(-2) #Eq7\n",
    "    for i in range(1,len(rArr)):\n",
    "        kapr[i]=kapbg*(1+Gq_o_Gbg[i-1])**(-xi) #Eq4\n",
    "        Gq_o_Gbg[i]=Gq_o_Gbg[i-1]*(rArr[i]/rArr[i-1])**(-2)*np.exp(-kapr[i-1]*drArr[i-1]) #Eq8\n",
    "\n",
    "    kap_zp=kapr\n",
    "    zpArr=z912[1:]\n",
    "\n",
    "    integrand=kap_zp*(1+zpArr)**(-xsec_index-2.5)*dzpArr\n",
    "\n",
    "    integ=-np.cumsum(integrand)\n",
    "\n",
    "    tau_eff=clight_kmps/H0/cosmo.Om0**0.5*(1+z912[1:])**xsec_index*integ\n",
    "    \n",
    "    return np.exp(-tau_eff)"
   ]
  },
  {
   "cell_type": "code",
   "execution_count": 116,
   "metadata": {},
   "outputs": [],
   "source": [
    "def fit_func_convolved(wv_rest,lamb,zqso,Req,xi,debug=True):\n",
    "    kapbg=1./lamb/3.08e24\n",
    "    tau_eff=[]\n",
    "    for wv in wv_rest:\n",
    "        tau_eff.append(-fitting.tau_LyC(wv,zqso,Req,xi,kapbg))\n",
    "    return np.exp(-np.array(tau_eff))"
   ]
  },
  {
   "cell_type": "code",
   "execution_count": 9,
   "metadata": {},
   "outputs": [],
   "source": []
  },
  {
   "cell_type": "code",
   "execution_count": null,
   "metadata": {},
   "outputs": [],
   "source": []
  },
  {
   "cell_type": "code",
   "execution_count": 119,
   "metadata": {},
   "outputs": [
    {
     "name": "stdout",
     "output_type": "stream",
     "text": [
      "z= 5.443298969072165\n"
     ]
    }
   ],
   "source": [
    "auni=0.1552\n",
    "xlimb=820\n",
    "zqso=1./auni-1\n",
    "print(\"z=\",zqso)\n",
    "Hz=cosmo.H(zqso).value\n",
    "\n",
    "qso_t1e7_tau_profiles=np.load(data_path+\"new_tau_profiles_F_a{:6.4f}_qso_Ndot1.4e57_tQ1e7yr.npy\".format(auni))\n",
    "mean_p_t1e7=np.mean(np.exp(-qso_t1e7_tau_profiles),axis=0)\n"
   ]
  },
  {
   "cell_type": "code",
   "execution_count": null,
   "metadata": {},
   "outputs": [],
   "source": []
  },
  {
   "cell_type": "code",
   "execution_count": 146,
   "metadata": {},
   "outputs": [],
   "source": [
    "Req=10 #pMpc\n",
    "xi=0.67\n",
    "mfp=5.9\n",
    "custom_func=lambda wv_rest, lamb:fit_func_dist_equal_wv(wv_rest, lamb, zqso, Req, xi)"
   ]
  },
  {
   "cell_type": "code",
   "execution_count": 147,
   "metadata": {},
   "outputs": [
    {
     "data": {
      "text/plain": [
       "[<matplotlib.lines.Line2D at 0x7f7cef57b890>]"
      ]
     },
     "execution_count": 147,
     "metadata": {},
     "output_type": "execute_result"
    },
    {
     "data": {
      "image/png": "[encoded data removed]",
      "text/plain": [
       "<Figure size 432x288 with 1 Axes>"
      ]
     },
     "metadata": {
      "needs_background": "light"
     },
     "output_type": "display_data"
    }
   ],
   "source": [
    "plt.plot(wv_rest_arr[1:],custom_func(wv_rest_arr,6))\n",
    "plt.plot(wv_rest_arr[1:],custom_func(wv_rest_arr,7))\n",
    "plt.plot(wv_rest_arr[1:], mean_p_t1e7[1:],ls=\"--\")"
   ]
  },
  {
   "cell_type": "code",
   "execution_count": 148,
   "metadata": {},
   "outputs": [],
   "source": [
    "data_path=\"/data/hqchen/mfp_project/data/\"\n",
    "wv_rest_arr=np.loadtxt(data_path+\"new_AAout.txt\")"
   ]
  },
  {
   "cell_type": "code",
   "execution_count": 151,
   "metadata": {},
   "outputs": [],
   "source": [
    "params, params_covariance = opt.curve_fit(custom_func, wv_rest_arr, mean_p_t1e7[1:], p0 = mfp)"
   ]
  },
  {
   "cell_type": "code",
   "execution_count": 152,
   "metadata": {},
   "outputs": [
    {
     "data": {
      "text/plain": [
       "array([7.19516741])"
      ]
     },
     "execution_count": 152,
     "metadata": {},
     "output_type": "execute_result"
    }
   ],
   "source": [
    "params"
   ]
  }
 ],
 "metadata": {
  "kernelspec": {
   "display_name": "Python 3",
   "language": "python",
   "name": "python3"
  },
  "language_info": {
   "codemirror_mode": {
    "name": "ipython",
    "version": 3
   },
   "file_extension": ".py",
   "mimetype": "text/x-python",
   "name": "python",
   "nbconvert_exporter": "python",
   "pygments_lexer": "ipython3",
   "version": "3.7.7"
  }
 },
 "nbformat": 4,
 "nbformat_minor": 2
}
