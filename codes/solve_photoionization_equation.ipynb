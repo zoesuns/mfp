{
 "cells": [
  {
   "cell_type": "markdown",
   "metadata": {},
   "source": [
    "### photoionization equation:\n",
    "\n",
    "$$ \\frac{d x_{\\rm HI}}{dt}=-\\Gamma x_{\\rm HI}+\\alpha(T)n_e x_{\\rm HII}$$"
   ]
  },
  {
   "cell_type": "markdown",
   "metadata": {},
   "source": [
    "### if ionization is solely due to the quasar and quasar ionization drops with distance due to pure geometric dilusion:\n",
    "\n",
    "$$\\Gamma(r)=\\int^{\\infty}_{v_0} \\frac{L_\\nu}{4\\pi r^2 h\\nu} \\sigma_{\\rm HI}(\\nu)d\\nu$$"
   ]
  },
  {
   "cell_type": "markdown",
   "metadata": {},
   "source": [
    "### there are small attenuation, so strictly speaking:\n",
    "\n",
    "$$\\Gamma(r)=\\int^{\\infty}_{v_0} \\frac{L_\\nu e^{-\\tau_{\\nu}}}{4\\pi r^2 h\\nu} \\sigma_{\\rm HI}(\\nu)d\\nu$$"
   ]
  },
  {
   "cell_type": "markdown",
   "metadata": {},
   "source": [
    "#### Note that in my code I use $N(\\nu)$:\n",
    "$$ \\dot{N}_\\nu = \\frac{L_\\nu}{h\\nu}$$"
   ]
  },
  {
   "cell_type": "markdown",
   "metadata": {},
   "source": [
    "$$ \\dot{N}_{\\rm tot} = \\int_{\\nu_{912\\unicode{x212B}}}^{\\infty} \\dot{N}_{\\nu} d\\nu$$"
   ]
  },
  {
   "cell_type": "markdown",
   "metadata": {},
   "source": [
    "#### bolometric luminosity is the total luminosity, integrated over the entire spectra \n",
    "\n",
    "$$ {L}_{\\rm bol} = \\int_{\\nu_{912\\unicode{x212B}}}^{\\infty} {L}_{\\nu} d\\nu$$\n"
   ]
  },
  {
   "cell_type": "markdown",
   "metadata": {},
   "source": [
    "Note that the ionizing part contributes to bolometric luminosity $L_{\\rm bol}$. But because we do not know much about how the spectra shape looks like in other wavelength, different observers measure the luminosity at a particular waveband and use different templates to convert between them. Usually in optical, the spectra is assumed to be a broken powerlaw $L_{\\nu}= L_{0} {\\left(\\frac{\\nu}{\\nu_0}\\right)}^{\\alpha}$"
   ]
  },
  {
   "cell_type": "markdown",
   "metadata": {},
   "source": [
    "### To convert Magnitude to N, we use some template, e.g. Runnoe12+Lusso15\n",
    "see jupyter notebook convert_M1450_Ntot_Runnoe12_Lusso15.ipynb"
   ]
  }
 ],
 "metadata": {
  "kernelspec": {
   "display_name": "Python 3",
   "language": "python",
   "name": "python3"
  },
  "language_info": {
   "codemirror_mode": {
    "name": "ipython",
    "version": 3
   },
   "file_extension": ".py",
   "mimetype": "text/x-python",
   "name": "python",
   "nbconvert_exporter": "python",
   "pygments_lexer": "ipython3",
   "version": "3.7.7"
  }
 },
 "nbformat": 4,
 "nbformat_minor": 5
}
