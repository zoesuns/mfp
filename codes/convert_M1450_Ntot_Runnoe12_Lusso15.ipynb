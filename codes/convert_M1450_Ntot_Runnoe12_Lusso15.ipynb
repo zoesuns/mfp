{
 "cells": [
  {
   "cell_type": "code",
   "execution_count": 24,
   "metadata": {},
   "outputs": [],
   "source": [
    "import numpy as np\n",
    "import matplotlib.pyplot as plt\n",
    "import pandas as pd\n",
    "\n",
    "from scipy.integrate import quad\n"
   ]
  },
  {
   "cell_type": "markdown",
   "metadata": {},
   "source": [
    "### Template fitting to convert M1450 -> ionizing Ndot\n",
    "\n",
    "https://ui.adsabs.harvard.edu/abs/2012MNRAS.427.1800R/abstract\n",
    "\n",
    "https://ui.adsabs.harvard.edu/abs/2012MNRAS.426.2677R/abstract\n",
    "\n",
    "https://ui.adsabs.harvard.edu/abs/2015MNRAS.449.4204L/abstract"
   ]
  },
  {
   "cell_type": "code",
   "execution_count": 25,
   "metadata": {},
   "outputs": [],
   "source": [
    "f_nu=lambda mAB: 10**(-(mAB+48.6)/2.5)\n",
    "pc2cm=3.086e+18\n",
    "MagAB_to_Lnu=lambda MagAB: 4*np.pi*(10*pc2cm)**2*f_nu(MagAB) # in unit erg s^-1 Hz^-1\n",
    "c=2.99792458e10\n",
    "nuHz_to_lambdaAA=lambda nuHz:1e8*c/nuHz\n",
    "lambdaAA_to_nuHz=lambda lambdaAA: c/(1e-8*lambdaAA)\n",
    "\n",
    "nu1450=lambdaAA_to_nuHz(1450)\n",
    "MagAB_to_nuLnu=lambda MagAB:nu1450*MagAB_to_Lnu(MagAB)\n",
    "MagAB_to_Liso =lambda MagAB:10**(4.74+0.91*np.log10(MagAB_to_nuLnu(MagAB)))"
   ]
  },
  {
   "cell_type": "code",
   "execution_count": 26,
   "metadata": {},
   "outputs": [],
   "source": [
    "nu912=lambdaAA_to_nuHz(912)\n",
    "nu_lo=lambdaAA_to_nuHz(10000) #1 mu m\n",
    "nu_hi=lambdaAA_to_nuHz(1.5) # 8 keV\n",
    "\n",
    "def Lum_nu_spec(nu, L_at_nu0, nu0, alpha_nu):\n",
    "    return L_at_nu0*(nu/nu0)**alpha_nu\n",
    "\n",
    "def calc_Lbol(L_nu_at912,alpha_nu_red,alpha_nu_blue):\n",
    "    red=quad(Lum_nu_spec,nu_lo,lambdaAA_to_nuHz(912),args=(L_nu_at912,lambdaAA_to_nuHz(912),alpha_nu_red))[0]\n",
    "    blue=quad(Lum_nu_spec,lambdaAA_to_nuHz(912),nu_hi,args=(L_nu_at912,lambdaAA_to_nuHz(912),alpha_nu_blue))[0]\n",
    "    return red+blue\n",
    "\n",
    "hplanck=6.62607015e-27\n",
    "def Ndot_nu_spec(nu, L_at_nu0, nu0, alpha_nu):\n",
    "    return Lum_nu_spec(nu, L_at_nu0, nu0, alpha_nu)/hplanck/nu\n",
    "\n",
    "def Ndot_tot(Lnu_at_HIedge,alpha_nu):\n",
    "#     print(lambdaAA_to_nuHz(912),lambdaAA_to_nuHz(12))\n",
    "#     print(quad(Ndot_nu_spec,lambdaAA_to_nuHz(912),lambdaAA_to_nuHz(0.912),args=(Lnu_at_HIedge,lambdaAA_to_nuHz(912),alpha_nu)))\n",
    "    return quad(Ndot_nu_spec,lambdaAA_to_nuHz(912),lambdaAA_to_nuHz(0.912),args=(Lnu_at_HIedge,lambdaAA_to_nuHz(912),alpha_nu))[0]\n"
   ]
  },
  {
   "cell_type": "code",
   "execution_count": 27,
   "metadata": {},
   "outputs": [],
   "source": [
    "def M1450_to_Ndottot(M1450,method=\"Runnoe12+Lusso15\"):\n",
    "    if method==\"Runnoe12+Lusso15\":\n",
    "        alpha_nu_red=-0.61\n",
    "        alpha_nu_blue=-1.7\n",
    "        L_nu_at912=MagAB_to_Liso(M1450)/calc_Lbol(1,alpha_nu_red,alpha_nu_blue)\n",
    "        return Ndot_tot(L_nu_at912,alpha_nu_blue)"
   ]
  },
  {
   "cell_type": "code",
   "execution_count": null,
   "metadata": {},
   "outputs": [],
   "source": []
  },
  {
   "cell_type": "code",
   "execution_count": 28,
   "metadata": {},
   "outputs": [
    {
     "name": "stdout",
     "output_type": "stream",
     "text": [
      "1.204244423715748e+57 this is the value in the file name Ntot\n"
     ]
    }
   ],
   "source": [
    "M1450=-26.55\n",
    "print(M1450_to_Ndottot(M1450), \"this is the value in the file name Ntot\")\n",
    "alpha_nu_red=-0.61\n",
    "alpha_nu_blue=-1.7\n",
    "L_nu_at912=MagAB_to_Liso(M1450)/calc_Lbol(1,alpha_nu_red,alpha_nu_blue)"
   ]
  },
  {
   "cell_type": "code",
   "execution_count": 29,
   "metadata": {},
   "outputs": [
    {
     "data": {
      "text/plain": [
       "[]"
      ]
     },
     "execution_count": 29,
     "metadata": {},
     "output_type": "execute_result"
    },
    {
     "data": {
      "image/png": "[encoded data removed]",
      "text/plain": [
       "<Figure size 432x288 with 1 Axes>"
      ]
     },
     "metadata": {
      "needs_background": "light"
     },
     "output_type": "display_data"
    }
   ],
   "source": [
    "nuArr=np.logspace(np.log10(nu912),np.log10(nu_hi),100)\n",
    "plt.plot(nuArr,Ndot_nu_spec(nuArr,L_nu_at912,nu912,alpha_nu_blue))\n",
    "plt.xlabel(r\"$\\nu \\rm [Hz]$\")\n",
    "plt.ylabel(r\"$\\dot{N} \\rm [s^{-1}Hz^{-1}]$\")\n",
    "plt.loglog()"
   ]
  },
  {
   "cell_type": "markdown",
   "metadata": {},
   "source": [
    "### convert to Gamma"
   ]
  },
  {
   "cell_type": "code",
   "execution_count": 30,
   "metadata": {},
   "outputs": [],
   "source": [
    "def sigma_HI_nu(nu):\n",
    "    # atomic data: photo-ionization xsec of HI \n",
    "    # input nu in Hz (only works when nu>nuHI)\n",
    "    # output sigma_HI in cm^2\n",
    "    \n",
    "    sigma_HI=6.30e-18*(1.34*(nu/nu912)**-2.99-0.34*(nu/nu912)**-3.99) #cm**2\n",
    "    return sigma_HI"
   ]
  },
  {
   "cell_type": "code",
   "execution_count": 31,
   "metadata": {},
   "outputs": [],
   "source": [
    "def calc_4pir2Gamma(M1450,method=\"Runnoe12+Lusso15\"):\n",
    "    print(M1450_to_Ndottot(M1450)) # this is the value in the file name Ntot\n",
    "    alpha_nu_red=-0.61\n",
    "    alpha_nu_blue=-1.7\n",
    "    L_nu_at912=MagAB_to_Liso(M1450)/calc_Lbol(1,alpha_nu_red,alpha_nu_blue)\n",
    "    nuArr=np.logspace(np.log10(nu912),np.log10(nu_hi),100)\n",
    "    intfunc=lambda nu:sigma_HI_nu(nu)*Ndot_nu_spec(nu,L_nu_at912,nu912,alpha_nu_blue)\n",
    "    ret=quad(intfunc,nu912,nu_hi)[0]\n",
    "    return ret"
   ]
  },
  {
   "cell_type": "code",
   "execution_count": 38,
   "metadata": {},
   "outputs": [
    {
     "name": "stdout",
     "output_type": "stream",
     "text": [
      "1.204244423715748e+57\n"
     ]
    },
    {
     "data": {
      "text/plain": [
       "1.558540291194651e-13"
      ]
     },
     "execution_count": 38,
     "metadata": {},
     "output_type": "execute_result"
    }
   ],
   "source": [
    "calc_4pir2Gamma(-26.55)/4/np.pi/(12.5*1e6*pc2cm)**2"
   ]
  },
  {
   "cell_type": "code",
   "execution_count": null,
   "metadata": {},
   "outputs": [],
   "source": []
  }
 ],
 "metadata": {
  "kernelspec": {
   "display_name": "Python 3",
   "language": "python",
   "name": "python3"
  },
  "language_info": {
   "codemirror_mode": {
    "name": "ipython",
    "version": 3
   },
   "file_extension": ".py",
   "mimetype": "text/x-python",
   "name": "python",
   "nbconvert_exporter": "python",
   "pygments_lexer": "ipython3",
   "version": "3.7.7"
  }
 },
 "nbformat": 4,
 "nbformat_minor": 5
}
