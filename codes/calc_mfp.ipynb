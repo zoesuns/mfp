{
 "cells": [
  {
   "cell_type": "code",
   "execution_count": 7,
   "id": "27675eba",
   "metadata": {},
   "outputs": [],
   "source": [
    "import numpy as np\n",
    "import matplotlib.pyplot as plt\n",
    "import astropy\n",
    "from astropy.constants import c as clight\n",
    "from astropy.constants import e as e_elec\n",
    "from astropy.constants import h as hplanck\n",
    "from astropy.cosmology import WMAP9 as cosmo"
   ]
  },
  {
   "cell_type": "markdown",
   "id": "7226dbbd",
   "metadata": {},
   "source": [
    "$$\\tau_{\\rm eff, LL} (r,\\nu) = \\int_0^r \\kappa_{\\rm LL} (r',\\nu) d r'$$"
   ]
  },
  {
   "cell_type": "code",
   "execution_count": 5,
   "id": "74cd61d9",
   "metadata": {},
   "outputs": [
    {
     "data": {
      "text/latex": [
       "$1.6021766 \\times 10^{-19} \\; \\mathrm{C}$"
      ],
      "text/plain": [
       "<<class 'astropy.constants.codata2018.EMCODATA2018'> name='Electron charge' value=1.602176634e-19 uncertainty=0.0 unit='C' reference='CODATA 2018'>"
      ]
     },
     "execution_count": 5,
     "metadata": {},
     "output_type": "execute_result"
    }
   ],
   "source": [
    "e_elec"
   ]
  },
  {
   "cell_type": "code",
   "execution_count": 19,
   "id": "6bb2b72b",
   "metadata": {},
   "outputs": [],
   "source": [
    "def drdz(z):\n",
    "    return clight/cosmo.H(z)/(1+z)\n",
    "\n",
    "def drdz_matter_dom(z):\n",
    "    return clight/cosmo.H0/cosmo.Om0**0.5*(1+z)**(-2.5)"
   ]
  },
  {
   "cell_type": "code",
   "execution_count": 39,
   "id": "d16468c7",
   "metadata": {},
   "outputs": [],
   "source": [
    "#(hplanck*clight/astropy.units.quantity.Quantity(1,\"eV\")).to(\"AA\")\n",
    "eV2lambdaAA=lambda eV:12398.42/eV\n",
    "lambdaAA2eV=lambda AA:12398.42/AA"
   ]
  },
  {
   "cell_type": "code",
   "execution_count": 53,
   "id": "189d740f",
   "metadata": {},
   "outputs": [],
   "source": [
    "def sigma_HI_nu(nu):\n",
    "    nuHI=13.6\n",
    "    sigma_HI=6.30e-18*(1.34*(nu/nuHI)**-2.99-0.34*(nu/nuHI)**-3.99) #cm**2\n",
    "    sigma_HI[nu<nuHI]=0\n",
    "    return sigma_HI"
   ]
  },
  {
   "cell_type": "code",
   "execution_count": 56,
   "id": "1e01756c",
   "metadata": {},
   "outputs": [
    {
     "data": {
      "text/plain": [
       "Text(0, 0.5, 'cm^2')"
      ]
     },
     "execution_count": 56,
     "metadata": {},
     "output_type": "execute_result"
    },
    {
     "data": {
      "image/png": "[encoded data removed]",
      "text/plain": [
       "<Figure size 432x288 with 1 Axes>"
      ]
     },
     "metadata": {
      "needs_background": "light"
     },
     "output_type": "display_data"
    }
   ],
   "source": [
    "test_eV_array=np.linspace(10.,100,200)\n",
    "test_AA_array=eV2lambdaAA(test_eV_array)\n",
    "plt.plot(test_eV_array,sigma_HI_nu(test_eV_array))\n",
    "plt.xlabel(\"eV\")\n",
    "plt.ylabel(\"cm^2\")"
   ]
  },
  {
   "cell_type": "markdown",
   "id": "17200432",
   "metadata": {},
   "source": [
    "$$ d \\tau = n \\sigma dr $$"
   ]
  },
  {
   "cell_type": "code",
   "execution_count": 31,
   "id": "a0047ef4",
   "metadata": {},
   "outputs": [
    {
     "data": {
      "text/plain": [
       "911.6485294117647"
      ]
     },
     "execution_count": 31,
     "metadata": {},
     "output_type": "execute_result"
    }
   ],
   "source": [
    "eV2lambdaAA(13.6)"
   ]
  },
  {
   "cell_type": "code",
   "execution_count": null,
   "id": "77af094f",
   "metadata": {},
   "outputs": [],
   "source": [
    "dlambda/lambda=v/c"
   ]
  },
  {
   "cell_type": "code",
   "execution_count": 41,
   "id": "d5ac25cd",
   "metadata": {},
   "outputs": [
    {
     "data": {
      "text/latex": [
       "$2.9979246 \\times 10^{8} \\; \\mathrm{\\frac{m}{s}}$"
      ],
      "text/plain": [
       "<<class 'astropy.constants.codata2018.CODATA2018'> name='Speed of light in vacuum' value=299792458.0 uncertainty=0.0 unit='m / s' reference='CODATA 2018'>"
      ]
     },
     "execution_count": 41,
     "metadata": {},
     "output_type": "execute_result"
    }
   ],
   "source": [
    "clight"
   ]
  },
  {
   "cell_type": "code",
   "execution_count": 50,
   "id": "87cd5a3e",
   "metadata": {},
   "outputs": [],
   "source": [
    "def calc_tau(nHI,dr_pMpc,eVarray):\n",
    "    dr=dr_pMpc*3.08e24 #cm\n",
    "    return nHI*dr*sigma_HI_nu(eVarray) #"
   ]
  },
  {
   "cell_type": "code",
   "execution_count": 76,
   "id": "59b62662",
   "metadata": {},
   "outputs": [],
   "source": [
    "def tau_profile(vspec_out,nHI,dr_pMpc):\n",
    "    lambdaAA_out=eV2lambdaAA(13.6)*(1-vspec_out/2.9979246e5)\n",
    "    eV_out=lambdaAA2eV(lambdaAA_out)\n",
    "    return calc_tau(nHI,dr_pMpc,eV_out)"
   ]
  },
  {
   "cell_type": "code",
   "execution_count": 77,
   "id": "5b195390",
   "metadata": {},
   "outputs": [],
   "source": [
    "def tau_per_denpixel(vspec_out,pos_pMpc,nHI,vlos,dr_pMpc,Hz):\n",
    "    vel_space_pos=pos_pMpc*Hz-vlos\n",
    "    v_relative=vspec_out-vel_space_pos\n",
    "    lambdaAA_out=eV2lambdaAA(13.6)*(1-v_relative/2.9979246e5)\n",
    "    eV_out=lambdaAA2eV(lambdaAA_out)\n",
    "    return calc_tau(nHI,dr_pMpc,eV_out)"
   ]
  },
  {
   "cell_type": "code",
   "execution_count": 100,
   "id": "04637b1c",
   "metadata": {},
   "outputs": [
    {
     "name": "stdout",
     "output_type": "stream",
     "text": [
      "5.0\n"
     ]
    }
   ],
   "source": [
    "dr_pMpc=0.01\n",
    "Ncell=500\n",
    "print(dr_pMpc*Ncell)\n",
    "dr_pMpc_array=np.ones(Ncell)*dr_pMpc\n",
    "pos_arr_pMpc=np.cumsum(dr_pMpc_array)\n",
    "nHI_arr=np.ones(Ncell)*1e-8\n",
    "vlos_arr=np.zeros(Ncell)"
   ]
  },
  {
   "cell_type": "code",
   "execution_count": 101,
   "id": "d105e684",
   "metadata": {},
   "outputs": [],
   "source": [
    "def integ_tau(vspec_out,pos_arr_pMpc,nHI,vlos,dr_pMpc,Hz):\n",
    "    tau_matrix=np.array([tau_per_denpixel(vspec_out,pos_arr_pMpc[i],\\\n",
    "                       nHI[i],vlos[i],dr_pMpc[i],Hz) for i in range(len(pos_arr_pMpc))])\n",
    "    return np.sum(tau_matrix,axis=0)"
   ]
  },
  {
   "cell_type": "code",
   "execution_count": 102,
   "id": "2b7b9cf7",
   "metadata": {},
   "outputs": [
    {
     "data": {
      "text/plain": [
       "[<matplotlib.lines.Line2D at 0x7f87cd212430>]"
      ]
     },
     "execution_count": 102,
     "metadata": {},
     "output_type": "execute_result"
    },
    {
     "data": {
      "image/png": "[encoded data removed]",
      "text/plain": [
       "<Figure size 432x288 with 1 Axes>"
      ]
     },
     "metadata": {
      "needs_background": "light"
     },
     "output_type": "display_data"
    }
   ],
   "source": [
    "plt.plot(AAout,integ_tau(vout,pos_arr_pMpc,nHI_arr,vlos_arr,dr_pMpc_array,600))\n"
   ]
  },
  {
   "cell_type": "code",
   "execution_count": 91,
   "id": "ac7c5171",
   "metadata": {},
   "outputs": [
    {
     "data": {
      "text/plain": [
       "Text(0, 0.5, 'transmitted flux')"
      ]
     },
     "execution_count": 91,
     "metadata": {},
     "output_type": "execute_result"
    },
    {
     "data": {
      "image/png": "[encoded data removed]",
      "text/plain": [
       "<Figure size 432x288 with 1 Axes>"
      ]
     },
     "metadata": {
      "needs_background": "light"
     },
     "output_type": "display_data"
    }
   ],
   "source": [
    "plt.plot(AAout,np.exp(-integ_tau(vout,pos_arr_pMpc,nHI_arr,vlos_arr,dr_pMpc_array,600)))\n",
    "plt.xlabel(\"lambda AA\")\n",
    "plt.ylabel(\"transmitted flux\")"
   ]
  },
  {
   "cell_type": "code",
   "execution_count": null,
   "id": "41ec89dc",
   "metadata": {},
   "outputs": [],
   "source": []
  },
  {
   "cell_type": "code",
   "execution_count": null,
   "id": "eb4bc9f0",
   "metadata": {},
   "outputs": [],
   "source": []
  },
  {
   "cell_type": "code",
   "execution_count": 78,
   "id": "87530543",
   "metadata": {},
   "outputs": [],
   "source": [
    "vout=np.linspace(0,24000,100)\n",
    "AAout=eV2lambdaAA(13.6)*(1-vout/2.9979246e5)"
   ]
  },
  {
   "cell_type": "code",
   "execution_count": 79,
   "id": "a6840b2c",
   "metadata": {},
   "outputs": [
    {
     "data": {
      "text/plain": [
       "[<matplotlib.lines.Line2D at 0x7f87b898f940>]"
      ]
     },
     "execution_count": 79,
     "metadata": {},
     "output_type": "execute_result"
    },
    {
     "data": {
      "image/png": "[encoded data removed]",
      "text/plain": [
       "<Figure size 432x288 with 1 Axes>"
      ]
     },
     "metadata": {
      "needs_background": "light"
     },
     "output_type": "display_data"
    }
   ],
   "source": [
    "plt.plot(AAout,tau_per_denpixel(vout,1,1e-8,0,0.001,600))"
   ]
  },
  {
   "cell_type": "code",
   "execution_count": 70,
   "id": "a257f849",
   "metadata": {},
   "outputs": [
    {
     "data": {
      "text/plain": [
       "[<matplotlib.lines.Line2D at 0x7f87ea4c31c0>]"
      ]
     },
     "execution_count": 70,
     "metadata": {},
     "output_type": "execute_result"
    },
    {
     "data": {
      "image/png": "[encoded data removed]",
      "text/plain": [
       "<Figure size 432x288 with 1 Axes>"
      ]
     },
     "metadata": {
      "needs_background": "light"
     },
     "output_type": "display_data"
    }
   ],
   "source": [
    "\n",
    "plt.plot(AAout,tau_profile(vout,1e-8,0.001))"
   ]
  },
  {
   "cell_type": "code",
   "execution_count": null,
   "id": "7294691f",
   "metadata": {},
   "outputs": [],
   "source": [
    "def absorpspec_per_denpixel(vspec_out,pos_pMpc,nHI,vlos,T,dR,Hz):\n",
    "    lambdaAA=\n",
    "    lambdaAA2eV"
   ]
  },
  {
   "cell_type": "code",
   "execution_count": null,
   "id": "0cada123",
   "metadata": {},
   "outputs": [],
   "source": [
    "def integ_tau(nHI_array,dr_pMpc_array, pos_pMpc_array, eVout, Hz, vlos_array=0):\n",
    "    uj=Hz*pos_pMpc_array+vlos_array"
   ]
  },
  {
   "cell_type": "code",
   "execution_count": null,
   "id": "464e649c",
   "metadata": {},
   "outputs": [],
   "source": [
    "def tau_ion_per_denpixel(vspec_out,pos_pMpc,nHI,vlos,T,dR,Hz,z):\n",
    "    dR=dR_pMpc*3.08e24"
   ]
  },
  {
   "cell_type": "code",
   "execution_count": 38,
   "id": "0e3f7296",
   "metadata": {},
   "outputs": [
    {
     "data": {
      "text/plain": [
       "[<matplotlib.lines.Line2D at 0x7f87e9e9d2b0>]"
      ]
     },
     "execution_count": 38,
     "metadata": {},
     "output_type": "execute_result"
    },
    {
     "data": {
      "image/png": "[encoded data removed]",
      "text/plain": [
       "<Figure size 432x288 with 1 Axes>"
      ]
     },
     "metadata": {
      "needs_background": "light"
     },
     "output_type": "display_data"
    }
   ],
   "source": [
    "plt.plot(test_AA_array,calc_tau(1e-4,1e-4,test_eV_array))\n",
    "# plt.loglog()"
   ]
  },
  {
   "cell_type": "code",
   "execution_count": 21,
   "id": "7d72427b",
   "metadata": {},
   "outputs": [],
   "source": [
    "vout=np.linspace(0,20000,100)"
   ]
  },
  {
   "cell_type": "code",
   "execution_count": 20,
   "id": "c7c07985",
   "metadata": {},
   "outputs": [
    {
     "data": {
      "text/latex": [
       "$23667.826 \\; \\mathrm{\\frac{km}{s}}$"
      ],
      "text/plain": [
       "<Quantity 23667.82563158 km / s>"
      ]
     },
     "execution_count": 20,
     "metadata": {},
     "output_type": "execute_result"
    }
   ],
   "source": [
    "(912-840)/912*clight.to(\"km/s\")"
   ]
  },
  {
   "cell_type": "code",
   "execution_count": 71,
   "id": "b9f20b33",
   "metadata": {},
   "outputs": [
    {
     "data": {
      "text/latex": [
       "$299792.46 \\; \\mathrm{\\frac{km}{s}}$"
      ],
      "text/plain": [
       "<Quantity 299792.458 km / s>"
      ]
     },
     "execution_count": 71,
     "metadata": {},
     "output_type": "execute_result"
    }
   ],
   "source": [
    "clight.to(\"km/s\")"
   ]
  }
 ],
 "metadata": {
  "kernelspec": {
   "display_name": "Python 3 (ipykernel)",
   "language": "python",
   "name": "python3"
  },
  "language_info": {
   "codemirror_mode": {
    "name": "ipython",
    "version": 3
   },
   "file_extension": ".py",
   "mimetype": "text/x-python",
   "name": "python",
   "nbconvert_exporter": "python",
   "pygments_lexer": "ipython3",
   "version": "3.9.7"
  }
 },
 "nbformat": 4,
 "nbformat_minor": 5
}
